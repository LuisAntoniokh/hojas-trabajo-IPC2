{
  "nbformat": 4,
  "nbformat_minor": 0,
  "metadata": {
    "colab": {
      "provenance": []
    },
    "kernelspec": {
      "name": "python3",
      "display_name": "Python 3"
    },
    "language_info": {
      "name": "python"
    }
  },
  "cells": [
    {
      "cell_type": "code",
      "execution_count": 23,
      "metadata": {
        "id": "sjwLrg-iGzR4"
      },
      "outputs": [],
      "source": [
        "class receta:\n",
        "  def __init__(self, paciente, fecha_nac, doctor, colegiado, fecha_cita, hora_cita, tipo_consulta, tratamiento):\n",
        "    self.paciente = paciente\n",
        "    self.fecha_nac = fecha_nac\n",
        "    self.doctor = doctor\n",
        "    self.colegiado = colegiado\n",
        "    self.fecha_cita = fecha_cita\n",
        "    self.hora_cita = hora_cita\n",
        "    self.tipo_consulta = tipo_consulta\n",
        "    self.tratamiento = tratamiento"
      ]
    },
    {
      "cell_type": "code",
      "source": [
        "class nodo:\n",
        "  def __init__(self, receta=None, siguiente=None, anterior=None):\n",
        "    self.receta = receta\n",
        "    self.siguiente = siguiente\n",
        "    anterior = anterior"
      ],
      "metadata": {
        "id": "cC4uDkl0G43I"
      },
      "execution_count": 22,
      "outputs": []
    },
    {
      "cell_type": "code",
      "source": [
        "class lista_doble:\n",
        "  def __init__(self):\n",
        "    self.primero = None\n",
        "\n",
        "  def insertar(self, receta):\n",
        "    if self.primero is None:\n",
        "      self.primero = nodo(receta=receta)\n",
        "    else:\n",
        "      actual = nodo(receta=receta, siguiente=self.primero)\n",
        "      self.primero.anterior = actual\n",
        "      self.primero = actual\n",
        "\n",
        "  def recorrer(self):\n",
        "    if self.primero is None:\n",
        "      return\n",
        "    actual = self.primero\n",
        "    print(\"Paciente: \", actual.receta.paciente, \"| Fecha de nacimiento: \",\n",
        "          actual.receta.fecha_nac, \"| Doctor: \", actual.receta.doctor,\n",
        "          \"| Colegiado: \", actual.receta.colegiado, \"| Fecha de cita: \", \n",
        "          actual.receta.fecha_cita, \"| Hora de cita:\", actual.receta.hora_cita,\n",
        "          \"| Tipo de consulta: \", actual.receta.tipo_consulta, \"| Tratamiento:\",\n",
        "          actual.receta.tratamiento)\n",
        "\n",
        "    while actual.siguiente:\n",
        "      actual = actual.siguiente\n",
        "      print(\"Paciente: \", actual.receta.paciente, \"| Fecha de nacimiento: \",\n",
        "          actual.receta.fecha_nac, \"| Doctor: \", actual.receta.doctor,\n",
        "          \"| Colegiado: \", actual.receta.colegiado, \"| Fecha de cita: \", \n",
        "          actual.receta.fecha_cita, \"| Hora de cita:\", actual.receta.hora_cita,\n",
        "          \"| Tipo de consulta: \", actual.receta.tipo_consulta, \"| Tratamiento:\",\n",
        "          actual.receta.tratamiento)\n",
        "    \n",
        "  def eliminar(self, colegiado, fecha_cita, hora_cita):\n",
        "    actual = self.primero\n",
        "    while actual:\n",
        "      if actual.receta.colegiado == colegiado and actual.receta.fecha_cita == fecha_cita and actual.receta.hora_cita == hora_cita:\n",
        "        if actual.anterior:\n",
        "          if actual.siguiente:\n",
        "            actual.anterior.siguiente = actual.siguiente\n",
        "            actual.siguiente.anterior = actual.anterior\n",
        "          else:\n",
        "            actual.anterior.siguiente = None\n",
        "            actual.anterior = None\n",
        "        else:\n",
        "          if actual.siguiente:\n",
        "            self.primero = actual.siguiente \n",
        "            actual.siguiente.anterior = None\n",
        "          else:\n",
        "            self.primero = None\n",
        "        return True\n",
        "      else:\n",
        "        actual = actual.siguiente\n",
        "    return False\n",
        "\n",
        "  def ht5(self, paciente, f_c, h_c):\n",
        "    actual = self.primero\n",
        "    anterior = None\n",
        "    while actual and actual.receta.paciente != paciente:\n",
        "      anterior = actual\n",
        "      actual = actual.siguiente\n",
        "\n",
        "      actual.receta.fecha_cita = f_c\n",
        "      actual.receta.hora_cita = h_c"
      ],
      "metadata": {
        "id": "wYhaBA4fG9ln"
      },
      "execution_count": 21,
      "outputs": []
    },
    {
      "cell_type": "code",
      "source": [
        "r1 = receta(\"Gerson López\", \"03-10-1990\", \"Melvin Ortiz\", 20156,\n",
        "            \"17-01-2023\", \"11:30\", \"Medicina general\",\n",
        "            \"2 pildoras de acetaminofén cada 6 horas\")\n",
        "\n",
        "r2 = receta(\"Karen Gómez\", \"08-05-2000\", \"Jorge Merida\", 8567,\n",
        "            \"31-01-2023\", \"09:00\", \"Medicina interna\",\n",
        "            \"Tylenol de 20 ml cada 4 horas\")\n",
        "\n",
        "r3 = receta(\"Luis García\", \"17-09-1987\", \"Melvin Ortiz\", 20156, \n",
        "            \"02-02-2023\", \"12:00\", \"Medicina general\",\n",
        "            \"2 cucharadas de Pepto-Bismol cada hora hasta que la diarrea desaparezca\")"
      ],
      "metadata": {
        "id": "bIN6odbhHA_f"
      },
      "execution_count": 12,
      "outputs": []
    },
    {
      "cell_type": "code",
      "source": [
        "lista_c = lista_doble()\n",
        "lista_c.insertar(r1)\n",
        "lista_c.insertar(r2)\n",
        "lista_c.insertar(r3)\n",
        "\n",
        "lista_c.recorrer()"
      ],
      "metadata": {
        "colab": {
          "base_uri": "https://localhost:8080/"
        },
        "id": "z4pxec7XHwHm",
        "outputId": "93a6d340-1350-4e36-c898-8680e88030be"
      },
      "execution_count": 20,
      "outputs": [
        {
          "output_type": "stream",
          "name": "stdout",
          "text": [
            "Paciente:  Luis García | Fecha de nacimiento:  17-09-1987 | Doctor:  Melvin Ortiz | Colegiado:  20156 | Fecha de cita:  02-02-2023 | Hora de cita: 12:00 | Tipo de consulta:  Medicina general | Tratamiento: 2 cucharadas de Pepto-Bismol cada hora hasta que la diarrea desaparezca\n",
            "Paciente:  Karen Gómez | Fecha de nacimiento:  08-05-2000 | Doctor:  Jorge Merida | Colegiado:  8567 | Fecha de cita:  31-01-2023 | Hora de cita: 09:00 | Tipo de consulta:  Medicina interna | Tratamiento: Tylenol de 20 ml cada 4 horas\n",
            "Paciente:  Gerson López | Fecha de nacimiento:  03-10-1990 | Doctor:  Melvin Ortiz | Colegiado:  20156 | Fecha de cita:  17-01-2023 | Hora de cita: 11:30 | Tipo de consulta:  Medicina general | Tratamiento: 2 pildoras de acetaminofén cada 6 horas\n"
          ]
        }
      ]
    },
    {
      "cell_type": "code",
      "source": [
        "lista_c.ht5(\"Gerson López\", \"11-03-2023\", \"12:30\")\n",
        "\n",
        "lista_c.recorrer()"
      ],
      "metadata": {
        "colab": {
          "base_uri": "https://localhost:8080/"
        },
        "id": "hvyNpjpyIAv-",
        "outputId": "849be424-b80f-488b-9e79-66b1fc9df1bc"
      },
      "execution_count": 24,
      "outputs": [
        {
          "output_type": "stream",
          "name": "stdout",
          "text": [
            "Paciente:  Luis García | Fecha de nacimiento:  17-09-1987 | Doctor:  Melvin Ortiz | Colegiado:  20156 | Fecha de cita:  02-02-2023 | Hora de cita: 12:00 | Tipo de consulta:  Medicina general | Tratamiento: 2 cucharadas de Pepto-Bismol cada hora hasta que la diarrea desaparezca\n",
            "Paciente:  Karen Gómez | Fecha de nacimiento:  08-05-2000 | Doctor:  Jorge Merida | Colegiado:  8567 | Fecha de cita:  11-03-2023 | Hora de cita: 12:30 | Tipo de consulta:  Medicina interna | Tratamiento: Tylenol de 20 ml cada 4 horas\n",
            "Paciente:  Gerson López | Fecha de nacimiento:  03-10-1990 | Doctor:  Melvin Ortiz | Colegiado:  20156 | Fecha de cita:  11-03-2023 | Hora de cita: 12:30 | Tipo de consulta:  Medicina general | Tratamiento: 2 pildoras de acetaminofén cada 6 horas\n"
          ]
        }
      ]
    }
  ]
}
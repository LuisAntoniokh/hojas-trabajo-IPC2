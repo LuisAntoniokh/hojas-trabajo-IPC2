{
  "nbformat": 4,
  "nbformat_minor": 0,
  "metadata": {
    "colab": {
      "provenance": []
    },
    "kernelspec": {
      "name": "python3",
      "display_name": "Python 3"
    },
    "language_info": {
      "name": "python"
    }
  },
  "cells": [
    {
      "cell_type": "code",
      "execution_count": 28,
      "metadata": {
        "id": "KX-S5ldbbiUz"
      },
      "outputs": [],
      "source": [
        "class receta:\n",
        "  def __init__ (self, paciente, fecha_nac, doctor, colegiado,\n",
        "               fecha_cita, hora_cita, tipo_consulta, tratamiento):\n",
        "    self.paciente = paciente\n",
        "    self.fecha_nac = fecha_nac\n",
        "    self.doctor = doctor\n",
        "    self.colegiado = colegiado\n",
        "    self.fecha_cita = fecha_cita\n",
        "    self.hora_cita = hora_cita\n",
        "    self.tipo_consulta = tipo_consulta\n",
        "    self.tratamiento = tratamiento"
      ]
    },
    {
      "cell_type": "code",
      "source": [
        "class nodo:\n",
        "  def __init__ (self, receta = None, siguiente = None):\n",
        "    self.receta = receta\n",
        "    self.siguiente = siguiente"
      ],
      "metadata": {
        "id": "fCpydp7JblDD"
      },
      "execution_count": 27,
      "outputs": []
    },
    {
      "cell_type": "code",
      "source": [
        "class lista_enlazada:\n",
        "  def __init__ (self):\n",
        "    self.primero = None\n",
        "\n",
        "  def insertar(self, receta):\n",
        "      if self.primero is None:\n",
        "        self.primero = nodo(receta = receta)\n",
        "        return\n",
        "      actual = self.primero\n",
        "      while actual.siguiente:\n",
        "        actual = actual.siguiente\n",
        "      actual.siguiente = nodo(receta = receta)\n",
        "\n",
        "  def recorrer(self):\n",
        "      actual = self.primero\n",
        "\n",
        "      while actual != None:\n",
        "        print(\"Paciente: \", actual.receta.paciente, \n",
        "              \"| Fecha de nacimiento: \", actual.receta.fecha_nac,\n",
        "              \"| Doctor: \", actual.receta.doctor,\n",
        "              \"| Colegiado: \", actual.receta.colegiado,\n",
        "              \"| Fecha de cita: \", actual.receta.fecha_cita,\n",
        "              \"| Hora cita: \", actual.receta.hora_cita,\n",
        "              \"| Tipo de consulta: \", actual.receta.tipo_consulta,\n",
        "              \"| Tratamiento: \", actual.receta.tipo_consulta)\n",
        "        \n",
        "        actual = actual.siguiente\n",
        "    \n",
        "  def eliminar(self, colegiado, fecha_cita, hora_cita):\n",
        "      actual = self.primero\n",
        "      anterior = None\n",
        "\n",
        "      while actual != None and actual.receta.colegiado != colegiado and actual.receta.fecha_cita != fecha_cita and actual.receta.hora_cita != hora_cita:\n",
        "        anterior = actual\n",
        "        actual = actual.siguiente\n",
        "      \n",
        "      if anterior is None:\n",
        "        self.primero = actual.siguiente\n",
        "        actual.siguiente = None\n",
        "      elif actual:\n",
        "        anterior.siguiente = actual.siguiente\n",
        "        actual.siguiente = None\n",
        "      \n",
        "  def modificar(self, colegiado, fecha_cita, hora_cita, nueva_fecha_cita, nueva_hora_cita):\n",
        "      actual = self.primero\n",
        "\n",
        "      while actual != None and actual.receta.colegiado != colegiado and actual.receta.fecha_cita != fecha_cita and actual.receta.hora_cita != hora_cita:\n",
        "          actual = actual.siguiente \n",
        "\n",
        "  def search_update(self, paciente, new_date, new_hour):\n",
        "      actual = self.primero\n",
        "      while actual is not None:\n",
        "          if actual.receta.paciente == paciente:\n",
        "              actual.receta.fecha_nac = new_date\n",
        "              actual.receta.hora_cita = new_hour\n",
        "              break\n",
        "          actual = actual.siguiente"
      ],
      "metadata": {
        "id": "HrHwOP5jbsYo"
      },
      "execution_count": 26,
      "outputs": []
    },
    {
      "cell_type": "code",
      "source": [
        "#Datos de pacientes\n",
        "\n",
        "r1 = receta(\"Gerson López\", \"03-10-1990\", \"Melvin Ortiz\", '20156', \"17-01-2023\", \"11:30\", \"Medicina general\", \"2 pildoras de acetaminofén cada 6 horas\")\n",
        "\n",
        "r2 = receta(\"Karen Gómez\", \"08-05-2000\", \"Jorge Merida\", 8567,\n",
        "            \"31-01-2023\", \"09:00\", \"Medicina interna\",\n",
        "            \"Tylenol de 20 ml cada 4 horas\")\n",
        "\n",
        "r3 = receta(\"Luis García\", \"17-09-1987\", \"Melvin Ortiz\", 20156, \n",
        "            \"02-02-2023\", \"12:00\", \"Medicina general\",\n",
        "            \"2 cucharadas de Pepto-Bismol cada hora hasta que la diarrea desaparezca\")"
      ],
      "metadata": {
        "id": "2cAm4EG6cO-b"
      },
      "execution_count": 36,
      "outputs": []
    },
    {
      "cell_type": "code",
      "source": [
        "#Creación de los pacientes en los nodos\n",
        "\n",
        "lista_e = lista_enlazada()\n",
        "lista_e.insertar(r1)\n",
        "lista_e.insertar(r2)\n",
        "lista_e.insertar(r3)"
      ],
      "metadata": {
        "id": "zj96vnrjmXqy"
      },
      "execution_count": 37,
      "outputs": []
    },
    {
      "cell_type": "code",
      "source": [
        "#Mostrar\n",
        "\n",
        "lista_e.recorrer()"
      ],
      "metadata": {
        "colab": {
          "base_uri": "https://localhost:8080/"
        },
        "id": "evr3rFMvnUqr",
        "outputId": "2902ef16-9e36-4a91-e8c9-96aadf91b843"
      },
      "execution_count": 33,
      "outputs": [
        {
          "output_type": "stream",
          "name": "stdout",
          "text": [
            "Paciente:  Gerson López | Fecha de nacimiento:  03-10-1990 | Doctor:  Melvin Ortiz | Colegiado:  20156 | Fecha de cita:  17-01-2023 | Hora cita:  11:30 | Tipo de consulta:  Medicina general | Tratamiento:  Medicina general\n",
            "Paciente:  Karen Gómez | Fecha de nacimiento:  08-05-2000 | Doctor:  Jorge Merida | Colegiado:  8567 | Fecha de cita:  31-01-2023 | Hora cita:  09:00 | Tipo de consulta:  Medicina interna | Tratamiento:  Medicina interna\n",
            "Paciente:  Luis García | Fecha de nacimiento:  17-09-1987 | Doctor:  Melvin Ortiz | Colegiado:  20156 | Fecha de cita:  02-02-2023 | Hora cita:  12:00 | Tipo de consulta:  Medicina general | Tratamiento:  Medicina general\n"
          ]
        }
      ]
    },
    {
      "cell_type": "code",
      "source": [
        "#Eliminar paciente\n",
        "\n",
        "lista_e.eliminar(20156,\"17-01-2023\", \"11:30\")\n",
        "     \n",
        "\n",
        "lista_e.recorrer()"
      ],
      "metadata": {
        "colab": {
          "base_uri": "https://localhost:8080/"
        },
        "id": "gPFAzzWhnnBQ",
        "outputId": "ffe52848-5797-4311-8df5-8419501ed420"
      },
      "execution_count": 34,
      "outputs": [
        {
          "output_type": "stream",
          "name": "stdout",
          "text": [
            "Paciente:  Karen Gómez | Fecha de nacimiento:  08-05-2000 | Doctor:  Jorge Merida | Colegiado:  8567 | Fecha de cita:  31-01-2023 | Hora cita:  09:00 | Tipo de consulta:  Medicina interna | Tratamiento:  Medicina interna\n",
            "Paciente:  Luis García | Fecha de nacimiento:  17-09-1987 | Doctor:  Melvin Ortiz | Colegiado:  20156 | Fecha de cita:  02-02-2023 | Hora cita:  12:00 | Tipo de consulta:  Medicina general | Tratamiento:  Medicina general\n"
          ]
        }
      ]
    },
    {
      "cell_type": "code",
      "source": [
        "#Modificar paciente\n",
        "\n",
        "lista_e.modificar(8567, \"31-01-2023\", \"09:00\", \"1-02-2023\", \"10:00\")\n",
        "lista_e.modificar(20156, \"02-02-2023\", \"12:00\", \"03-03-2023\", \"14:00\")\n",
        "\n",
        "lista_e.recorrer()"
      ],
      "metadata": {
        "colab": {
          "base_uri": "https://localhost:8080/"
        },
        "id": "UxRB7wK_n-Na",
        "outputId": "e8effb46-ac3c-4ce6-e451-e8083ae46bc5"
      },
      "execution_count": 39,
      "outputs": [
        {
          "output_type": "stream",
          "name": "stdout",
          "text": [
            "Paciente:  Gerson López | Fecha de nacimiento:  03-10-1990 | Doctor:  Melvin Ortiz | Colegiado:  20156 | Fecha de cita:  17-01-2023 | Hora cita:  11:30 | Tipo de consulta:  Medicina general | Tratamiento:  Medicina general\n",
            "Paciente:  Karen Gómez | Fecha de nacimiento:  08-05-2000 | Doctor:  Jorge Merida | Colegiado:  8567 | Fecha de cita:  31-01-2023 | Hora cita:  09:00 | Tipo de consulta:  Medicina interna | Tratamiento:  Medicina interna\n",
            "Paciente:  Luis García | Fecha de nacimiento:  17-09-1987 | Doctor:  Melvin Ortiz | Colegiado:  20156 | Fecha de cita:  02-02-2023 | Hora cita:  12:00 | Tipo de consulta:  Medicina general | Tratamiento:  Medicina general\n"
          ]
        }
      ]
    },
    {
      "cell_type": "code",
      "source": [
        "\"\"\"\n",
        "Luis Antonio Castro Padilla\n",
        "202109750\n",
        "\"\"\""
      ],
      "metadata": {
        "colab": {
          "base_uri": "https://localhost:8080/",
          "height": 35
        },
        "id": "Eh04YqPnoDdj",
        "outputId": "9ee57870-0323-4e43-8355-259a0288f635"
      },
      "execution_count": 40,
      "outputs": [
        {
          "output_type": "execute_result",
          "data": {
            "text/plain": [
              "'\\nLuis Antonio Castro Padilla\\n202109750\\n'"
            ],
            "application/vnd.google.colaboratory.intrinsic+json": {
              "type": "string"
            }
          },
          "metadata": {},
          "execution_count": 40
        }
      ]
    }
  ]
}
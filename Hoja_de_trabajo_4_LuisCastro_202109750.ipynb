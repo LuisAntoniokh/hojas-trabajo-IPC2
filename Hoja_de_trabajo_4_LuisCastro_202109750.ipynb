{
  "nbformat": 4,
  "nbformat_minor": 0,
  "metadata": {
    "colab": {
      "provenance": []
    },
    "kernelspec": {
      "name": "python3",
      "display_name": "Python 3"
    },
    "language_info": {
      "name": "python"
    }
  },
  "cells": [
    {
      "cell_type": "code",
      "execution_count": 19,
      "metadata": {
        "id": "KFmEplEaznaj"
      },
      "outputs": [],
      "source": [
        "class receta:\n",
        "  def __init__(self, paciente, fecha_nac, doctor, colegiado,\n",
        "               fecha_cita, hora_cita, tipo_consulta, tratamiento):\n",
        "    self.paciente = paciente\n",
        "    self.fecha_nac = fecha_nac\n",
        "    self.doctor = doctor\n",
        "    self.colegiado = colegiado\n",
        "    self.fecha_cita = fecha_cita\n",
        "    self.hora_cita = hora_cita\n",
        "    self.tipo_consulta = tipo_consulta\n",
        "    self.tratamiento = tratamiento"
      ]
    },
    {
      "cell_type": "code",
      "source": [
        "class nodo:\n",
        "  def __init__(self, receta = None, siguiente = None):\n",
        "    self.receta = receta\n",
        "    self.siguiente = siguiente"
      ],
      "metadata": {
        "id": "w7UoPBp80CrE"
      },
      "execution_count": 20,
      "outputs": []
    },
    {
      "cell_type": "code",
      "source": [
        "class lista_circular:\n",
        "  def __init__(self):\n",
        "    self.primero = None\n",
        "\n",
        "  def insertar(self, receta):\n",
        "    if self.primero is None:\n",
        "      self.primero = nodo(receta = receta)\n",
        "      self.primero.siguiente = self.primero\n",
        "    else:\n",
        "      actual = nodo(receta = receta,siguiente=self.primero.siguiente)\n",
        "      self.primero.siguiente = actual\n",
        "\n",
        "  def recorrer(self):\n",
        "    if self.primero is None:\n",
        "      return\n",
        "    actual = self.primero\n",
        "    print(\"Paciente: \", actual.receta.paciente, \n",
        "            \"| Fecha de nacimiento: \", actual.receta.fecha_nac,\n",
        "            \"| Doctor: \", actual.receta.doctor,\n",
        "            \"| Colegiado: \", actual.receta.colegiado,\n",
        "            \"| Fecha de cita: \", actual.receta.fecha_cita,\n",
        "            \"| Hora cita: \", actual.receta.hora_cita,\n",
        "            \"| Tipo de consulta: \", actual.receta.tipo_consulta,\n",
        "            \"| Tratamiento: \", actual.receta.tipo_consulta)\n",
        "    while actual.siguiente != self.primero:\n",
        "      actual = actual.siguiente\n",
        "      print(\"Paciente: \", actual.receta.paciente, \n",
        "            \"| Fecha de nacimiento: \", actual.receta.fecha_nac,\n",
        "            \"| Doctor: \", actual.receta.doctor,\n",
        "            \"| Colegiado: \", actual.receta.colegiado,\n",
        "            \"| Fecha de cita: \", actual.receta.fecha_cita,\n",
        "            \"| Hora cita: \", actual.receta.hora_cita,\n",
        "            \"| Tipo de consulta: \", actual.receta.tipo_consulta,\n",
        "            \"| Tratamiento: \", actual.receta.tipo_consulta)\n",
        "          \n",
        "  def eliminar(self, colegiado, fecha_cita, hora_cita):\n",
        "    actual = self.primero\n",
        "    anterior = None\n",
        "    no_encontrado = False\n",
        "\n",
        "    while actual != None and actual.receta.colegiado != colegiado and actual.receta.fecha_cita != fecha_cita and actual.receta.hora_cita != hora_cita:\n",
        "      anterior = actual\n",
        "      actual = actual.siguiente\n",
        "\n",
        "      if actual == self.primero:\n",
        "        no_encontrado = True\n",
        "        print(\"No encontrado\")\n",
        "        break\n",
        "    \n",
        "    if not no_encontrado:\n",
        "      if anterior is not None:\n",
        "        anterior.siguiente = actual.siguiente\n",
        "        actual.siguiente = None\n",
        "      else:\n",
        "        while actual.siguiente != self.primero:\n",
        "          actual = actual.siguiente\n",
        "        actual.siguiente = self.primero.siguiente\n",
        "        self.primero = self.primero.siguiente\n",
        "  "
      ],
      "metadata": {
        "id": "CJU6dYdW0FTs"
      },
      "execution_count": 21,
      "outputs": []
    },
    {
      "cell_type": "code",
      "source": [
        "r1 = receta(\"Gerson López\", \"03-10-1990\", \"Melvin Ortiz\", 20156,\n",
        "            \"17-01-2023\", \"11:30\", \"Medicina general\",\n",
        "            \"2 pildoras de acetaminofén cada 6 horas\")\n",
        "\n",
        "r2 = receta(\"Karen Gómez\", \"08-05-2000\", \"Jorge Merida\", 8567,\n",
        "            \"31-01-2023\", \"09:00\", \"Medicina interna\",\n",
        "            \"Tylenol de 20 ml cada 4 horas\")\n",
        "\n",
        "r3 = receta(\"Luis García\", \"17-09-1987\", \"Melvin Ortiz\", 20156, \n",
        "            \"02-02-2023\", \"12:00\", \"Medicina general\",\n",
        "            \"2 cucharadas de Pepto-Bismol cada hora hasta que la diarrea desaparezca\")"
      ],
      "metadata": {
        "id": "OQZXTxts0J6F"
      },
      "execution_count": 22,
      "outputs": []
    },
    {
      "cell_type": "code",
      "source": [
        "lista_c = lista_circular()\n",
        "lista_c.insertar(r1)\n",
        "lista_c.insertar(r2)\n",
        "lista_c.insertar(r3)"
      ],
      "metadata": {
        "id": "rQpJ2Hig1LFg"
      },
      "execution_count": 23,
      "outputs": []
    },
    {
      "cell_type": "code",
      "source": [
        "lista_c.recorrer()\n",
        "     "
      ],
      "metadata": {
        "colab": {
          "base_uri": "https://localhost:8080/"
        },
        "id": "BzEsUmQw2wOY",
        "outputId": "17a220b5-81c4-4b4c-de54-86c4497afbd8"
      },
      "execution_count": 24,
      "outputs": [
        {
          "output_type": "stream",
          "name": "stdout",
          "text": [
            "Paciente:  Gerson López | Fecha de nacimiento:  03-10-1990 | Doctor:  Melvin Ortiz | Colegiado:  20156 | Fecha de cita:  17-01-2023 | Hora cita:  11:30 | Tipo de consulta:  Medicina general | Tratamiento:  Medicina general\n",
            "Paciente:  Luis García | Fecha de nacimiento:  17-09-1987 | Doctor:  Melvin Ortiz | Colegiado:  20156 | Fecha de cita:  02-02-2023 | Hora cita:  12:00 | Tipo de consulta:  Medicina general | Tratamiento:  Medicina general\n",
            "Paciente:  Karen Gómez | Fecha de nacimiento:  08-05-2000 | Doctor:  Jorge Merida | Colegiado:  8567 | Fecha de cita:  31-01-2023 | Hora cita:  09:00 | Tipo de consulta:  Medicina interna | Tratamiento:  Medicina interna\n"
          ]
        }
      ]
    },
    {
      "cell_type": "code",
      "source": [
        "lista_c.eliminar(8567, \"31-01-2023\", \"09:00\",)\n",
        "     \n",
        "\n",
        "lista_c.recorrer()"
      ],
      "metadata": {
        "colab": {
          "base_uri": "https://localhost:8080/"
        },
        "id": "fOutJJAZ2_VH",
        "outputId": "5b9430c4-143c-4641-8e44-f59d5dc1ee64"
      },
      "execution_count": 25,
      "outputs": [
        {
          "output_type": "stream",
          "name": "stdout",
          "text": [
            "Paciente:  Gerson López | Fecha de nacimiento:  03-10-1990 | Doctor:  Melvin Ortiz | Colegiado:  20156 | Fecha de cita:  17-01-2023 | Hora cita:  11:30 | Tipo de consulta:  Medicina general | Tratamiento:  Medicina general\n",
            "Paciente:  Luis García | Fecha de nacimiento:  17-09-1987 | Doctor:  Melvin Ortiz | Colegiado:  20156 | Fecha de cita:  02-02-2023 | Hora cita:  12:00 | Tipo de consulta:  Medicina general | Tratamiento:  Medicina general\n"
          ]
        }
      ]
    },
    {
      "cell_type": "code",
      "source": [
        "lista_c.eliminar(20156,\"17-01-2023\", \"11:30\")\n",
        "     \n",
        "\n",
        "lista_c.recorrer()"
      ],
      "metadata": {
        "colab": {
          "base_uri": "https://localhost:8080/"
        },
        "id": "fzxmkgjQ4-5e",
        "outputId": "fa3a7ca6-daf5-42f9-d789-9a3c124f84cd"
      },
      "execution_count": 26,
      "outputs": [
        {
          "output_type": "stream",
          "name": "stdout",
          "text": [
            "Paciente:  Luis García | Fecha de nacimiento:  17-09-1987 | Doctor:  Melvin Ortiz | Colegiado:  20156 | Fecha de cita:  02-02-2023 | Hora cita:  12:00 | Tipo de consulta:  Medicina general | Tratamiento:  Medicina general\n"
          ]
        }
      ]
    }
  ]
}